{
 "cells": [
  {
   "cell_type": "code",
   "execution_count": 1,
   "metadata": {},
   "outputs": [],
   "source": [
    "# Load libraries\n",
    "import os\n",
    "os.environ['QT_API'] = 'pyqt4'  # or 'pyside2'\n",
    "import numpy as np\n",
    "import nibabel as nib\n",
    "import pandas as pandas\n",
    "from surfer import Brain\n",
    "import matplotlib.pyplot as plt\n",
    "from matplotlib.colors import LinearSegmentedColormap\n"
   ]
  },
  {
   "cell_type": "markdown",
   "metadata": {},
   "source": [
    "## Tau Time Series"
   ]
  },
  {
   "cell_type": "code",
   "execution_count": 56,
   "metadata": {},
   "outputs": [
    {
     "name": "stdout",
     "output_type": "stream",
     "text": [
      "\n",
      "ORIGINAL COLUMNS:\n",
      "['Left-Cerebellum-Cortex', 'Left-Thalamus-Proper', 'Left-Caudate', 'Left-Putamen', 'Left-Pallidum', 'Left-Hippocampus', 'Left-Amygdala', 'Left-Accumbens-area', 'Left-VentralDC', 'Right-Cerebellum-Cortex', 'Right-Thalamus-Proper', 'Right-Caudate', 'Right-Putamen', 'Right-Pallidum', 'Right-Hippocampus', 'Right-Amygdala', 'Right-Accumbens-area', 'Right-VentralDC', 'ctx-lh-bankssts', 'ctx-lh-caudalanteriorcingulate', 'ctx-lh-caudalmiddlefrontal', 'ctx-lh-cuneus', 'ctx-lh-entorhinal', 'ctx-lh-fusiform', 'ctx-lh-inferiorparietal', 'ctx-lh-inferiortemporal', 'ctx-lh-isthmuscingulate', 'ctx-lh-lateraloccipital', 'ctx-lh-lateralorbitofrontal', 'ctx-lh-lingual', 'ctx-lh-medialorbitofrontal', 'ctx-lh-middletemporal', 'ctx-lh-parahippocampal', 'ctx-lh-paracentral', 'ctx-lh-parsopercularis', 'ctx-lh-parsorbitalis', 'ctx-lh-parstriangularis', 'ctx-lh-pericalcarine', 'ctx-lh-postcentral', 'ctx-lh-posteriorcingulate', 'ctx-lh-precentral', 'ctx-lh-precuneus', 'ctx-lh-rostralanteriorcingulate', 'ctx-lh-rostralmiddlefrontal', 'ctx-lh-superiorfrontal', 'ctx-lh-superiorparietal', 'ctx-lh-superiortemporal', 'ctx-lh-supramarginal', 'ctx-lh-frontalpole', 'ctx-lh-temporalpole', 'ctx-lh-transversetemporal', 'ctx-lh-insula', 'ctx-rh-bankssts', 'ctx-rh-caudalanteriorcingulate', 'ctx-rh-caudalmiddlefrontal', 'ctx-rh-cuneus', 'ctx-rh-entorhinal', 'ctx-rh-fusiform', 'ctx-rh-inferiorparietal', 'ctx-rh-inferiortemporal', 'ctx-rh-isthmuscingulate', 'ctx-rh-lateraloccipital', 'ctx-rh-lateralorbitofrontal', 'ctx-rh-lingual', 'ctx-rh-medialorbitofrontal', 'ctx-rh-middletemporal', 'ctx-rh-parahippocampal', 'ctx-rh-paracentral', 'ctx-rh-parsopercularis', 'ctx-rh-parsorbitalis', 'ctx-rh-parstriangularis', 'ctx-rh-pericalcarine', 'ctx-rh-postcentral', 'ctx-rh-posteriorcingulate', 'ctx-rh-precentral', 'ctx-rh-precuneus', 'ctx-rh-rostralanteriorcingulate', 'ctx-rh-rostralmiddlefrontal', 'ctx-rh-superiorfrontal', 'ctx-rh-superiorparietal', 'ctx-rh-superiortemporal', 'ctx-rh-supramarginal', 'ctx-rh-frontalpole', 'ctx-rh-temporalpole', 'ctx-rh-transversetemporal', 'ctx-rh-insula']\n",
      "\n",
      "AFTER norm_to_ADNI:\n",
      "['ctx-lh-parstriangularis', 'ctx-lh-pericalcarine', 'ctx-lh-postcentral', 'ctx-lh-posteriorcingulate', 'ctx-lh-precentral', 'ctx-lh-precuneus', 'ctx-lh-rostralanteriorcingulate', 'ctx-lh-rostralmiddlefrontal', 'ctx-lh-superiorfrontal', 'ctx-lh-superiorparietal', 'ctx-lh-superiortemporal', 'ctx-lh-supramarginal', 'ctx-lh-frontalpole', 'ctx-lh-temporalpole', 'ctx-lh-transversetemporal', 'ctx-lh-insula', 'Left-Cerebellum-Cortex', 'Left-Thalamus-Proper', 'Left-Caudate', 'Left-Putamen', 'Left-Pallidum', 'Left-Hippocampus', 'Left-Amygdala', 'Left-Accumbens-area', 'Left-VentralDC', 'Right-Cerebellum-Cortex', 'Right-Thalamus-Proper', 'Right-Caudate', 'Right-Putamen', 'Right-Pallidum', 'Right-Hippocampus', 'Right-Amygdala', 'Right-Accumbens-area', 'Right-VentralDC', 'ctx-rh-parstriangularis', 'ctx-rh-pericalcarine', 'ctx-rh-postcentral', 'ctx-rh-posteriorcingulate', 'ctx-rh-precentral', 'ctx-rh-precuneus', 'ctx-rh-rostralanteriorcingulate', 'ctx-rh-rostralmiddlefrontal', 'ctx-rh-superiorfrontal', 'ctx-rh-superiorparietal', 'ctx-rh-superiortemporal', 'ctx-rh-supramarginal', 'ctx-rh-frontalpole', 'ctx-rh-temporalpole', 'ctx-rh-transversetemporal', 'ctx-rh-insula', 'ctx-lh-bankssts', 'ctx-lh-caudalanteriorcingulate', 'ctx-lh-caudalmiddlefrontal', 'ctx-lh-cuneus', 'ctx-lh-entorhinal', 'ctx-lh-fusiform', 'ctx-lh-inferiorparietal', 'ctx-lh-inferiortemporal', 'ctx-lh-isthmuscingulate', 'ctx-lh-lateraloccipital', 'ctx-lh-lateralorbitofrontal', 'ctx-lh-lingual', 'ctx-lh-medialorbitofrontal', 'ctx-lh-middletemporal', 'ctx-lh-parahippocampal', 'ctx-lh-paracentral', 'ctx-lh-parsopercularis', 'ctx-lh-parsorbitalis', 'ctx-rh-bankssts', 'ctx-rh-caudalanteriorcingulate', 'ctx-rh-caudalmiddlefrontal', 'ctx-rh-cuneus', 'ctx-rh-entorhinal', 'ctx-rh-fusiform', 'ctx-rh-inferiorparietal', 'ctx-rh-inferiortemporal', 'ctx-rh-isthmuscingulate', 'ctx-rh-lateraloccipital', 'ctx-rh-lateralorbitofrontal', 'ctx-rh-lingual', 'ctx-rh-medialorbitofrontal', 'ctx-rh-middletemporal', 'ctx-rh-parahippocampal', 'ctx-rh-paracentral', 'ctx-rh-parsopercularis', 'ctx-rh-parsorbitalis']\n",
      "\n",
      "AFTER ADNI_to_DK:\n",
      "['ctx-rh-parstriangularis', 'ctx-rh-pericalcarine', 'ctx-rh-postcentral', 'ctx-rh-posteriorcingulate', 'ctx-rh-precentral', 'ctx-rh-precuneus', 'ctx-rh-rostralanteriorcingulate', 'ctx-rh-rostralmiddlefrontal', 'ctx-rh-superiorfrontal', 'ctx-rh-superiorparietal', 'ctx-rh-superiortemporal', 'ctx-rh-supramarginal', 'ctx-rh-frontalpole', 'ctx-rh-temporalpole', 'ctx-rh-transversetemporal', 'ctx-rh-insula', 'ctx-lh-bankssts', 'ctx-lh-caudalanteriorcingulate', 'ctx-lh-caudalmiddlefrontal', 'ctx-lh-cuneus', 'ctx-lh-entorhinal', 'ctx-lh-fusiform', 'ctx-lh-inferiorparietal', 'ctx-lh-inferiortemporal', 'ctx-lh-isthmuscingulate', 'ctx-lh-lateraloccipital', 'ctx-lh-lateralorbitofrontal', 'ctx-lh-lingual', 'ctx-lh-medialorbitofrontal', 'ctx-lh-middletemporal', 'ctx-lh-parahippocampal', 'ctx-lh-paracentral', 'ctx-lh-parsopercularis', 'ctx-lh-parsorbitalis', 'ctx-lh-parstriangularis', 'ctx-lh-pericalcarine', 'ctx-lh-postcentral', 'ctx-lh-posteriorcingulate', 'ctx-lh-precentral', 'ctx-lh-precuneus', 'ctx-lh-rostralanteriorcingulate', 'ctx-lh-rostralmiddlefrontal', 'ctx-lh-superiorfrontal', 'ctx-lh-superiorparietal', 'ctx-lh-superiortemporal', 'ctx-lh-supramarginal', 'ctx-lh-frontalpole', 'ctx-lh-temporalpole', 'ctx-lh-transversetemporal', 'ctx-lh-insula', 'Left-Cerebellum-Cortex', 'Left-Thalamus-Proper', 'Left-Caudate', 'Left-Putamen', 'Left-Pallidum', 'Left-Hippocampus', 'Left-Amygdala', 'Left-Accumbens-area', 'Left-VentralDC', 'Right-Cerebellum-Cortex', 'Right-Thalamus-Proper', 'Right-Caudate', 'Right-Putamen', 'Right-Pallidum', 'Right-Hippocampus', 'Right-Amygdala', 'Right-Accumbens-area', 'Right-VentralDC', 'ctx-rh-bankssts', 'ctx-rh-caudalanteriorcingulate', 'ctx-rh-caudalmiddlefrontal', 'ctx-rh-cuneus', 'ctx-rh-entorhinal', 'ctx-rh-fusiform', 'ctx-rh-inferiorparietal', 'ctx-rh-inferiortemporal', 'ctx-rh-isthmuscingulate', 'ctx-rh-lateraloccipital', 'ctx-rh-lateralorbitofrontal', 'ctx-rh-lingual', 'ctx-rh-medialorbitofrontal', 'ctx-rh-middletemporal', 'ctx-rh-parahippocampal', 'ctx-rh-paracentral', 'ctx-rh-parsopercularis', 'ctx-rh-parsorbitalis']\n",
      "Final tau values: [0.29238033 0.07921041 0.05610528 0.15957607 0.68978854 0.3926365\n",
      " 0.32904716 0.51569642 0.18318348 0.23843488]\n"
     ]
    }
   ],
   "source": [
    "# Load data here\n",
    "data = pandas.read_csv('/Users/robinsandell/Desktop/Raj Lab/Human Nexis/CODE Nexis Human/results/Human_Nexis_6483_patient_tau.csv')\n",
    "\n",
    "# Need additional steps for any data labeled \"data_new\"\n",
    "data.insert(3, 'Left-Caudate', 0)\n",
    "data.insert(4, 'Left-Putamen', 0)\n",
    "data.insert(5, 'Left-Pallidum', 0)\n",
    "data.insert(8, 'Left-Accumbens-area', 0)\n",
    "data.insert(12, 'Right-Caudate', 0)\n",
    "data.insert(13, 'Right-Putamen', 0)\n",
    "data.insert(14, 'Right-Pallidum', 0)\n",
    "data.insert(17, 'Right-Accumbens-area', 0)\n",
    "data = data.drop('Unnamed: 0', axis=1)\n",
    "\n",
    "# Add these debug prints\n",
    "print(\"\\nORIGINAL COLUMNS:\")\n",
    "print(data.columns.tolist())\n",
    "\n",
    "norm_to_ADNI = [52,53,54,55,56,57,58,59,60,61,62,63,64,65,66,67,68,69,70,71,72,73,74,75,76,77,78,79,80,81,82,83,84,85,18,19,20,21,22,23,24,25,26,27,28,29,30,31,32,33,34,35,36,37,38,39,40,41,42,43,44,45,46,47,48,49,50,51,0,1,2,3,4,5,6,7,8,9,10,11,12,13,14,15,16,17]\n",
    "data = data.iloc[:, norm_to_ADNI]\n",
    "\n",
    "# After first reordering\n",
    "data_norm = data.iloc[:, norm_to_ADNI]\n",
    "print(\"\\nAFTER norm_to_ADNI:\")\n",
    "print(data_norm.columns.tolist())\n",
    "\n",
    "# Reorder to match DK\n",
    "ADNI_to_DK = [34,35,36,37,38,39,40,41,42,43,44,45,46,47,48,49,50,51,52,53,54,55,56,57,58,59,60,61,62,63,64,65,66,67,0,1,2,3,4,5,6,7,8,9,10,11,12,13,14,15,16,17,18,19,20,21,22,23,24,25,26,27,28,29,30,31,32,33,68,69,70,71,72,73,74,75,76,77,78,79,80,81,82,83,84,85]\n",
    "data = data.iloc[:, ADNI_to_DK]\n",
    "\n",
    "# After second reordering\n",
    "data_dk = data_norm.iloc[:, ADNI_to_DK]\n",
    "print(\"\\nAFTER ADNI_to_DK:\")\n",
    "print(data_dk.columns.tolist())\n",
    "\n",
    "# ENTER TIME POINT HERE (row #) for tau visualization and create a data frame\n",
    "tau = data.iloc[0,:]\n",
    "\n",
    "print(\"Final tau values:\", tau.values[:10])\n",
    "\n",
    "# Prepare data to match annotation file\n",
    "tau = tau[:-52]\n",
    "\n",
    "# New values and labels to be inserted\n",
    "new_value_at_0 = 0\n",
    "new_label_at_0 = 'unknown'  # Assuming 'a' is the label for the new entry at index 1\n",
    "\n",
    "new_value_at_4 = 0\n",
    "new_label_at_4 = 'corpuscallosum'  # Assuming 'a' is the label for the new entry at index 4 (adjusted index due to the first insertion)\n",
    "\n",
    "# Splitting the series into parts around the insertion points\n",
    "part_between_0_and_4 = tau.iloc[0:3]\n",
    "part_after_4 = tau.iloc[3:]\n",
    "\n",
    "# Inserting the new values by creating new Series for them (with labels) and concatenating everything\n",
    "tau = pandas.concat([\n",
    "    pandas.Series([new_value_at_0], index=[new_label_at_0]),  # Insert new value with label at adjusted index 1\n",
    "    part_between_0_and_4,\n",
    "    pandas.Series([new_value_at_4], index=[new_label_at_4]),  # Insert new value with label at adjusted index 4\n",
    "    part_after_4\n",
    "])"
   ]
  },
  {
   "cell_type": "markdown",
   "metadata": {},
   "source": [
    "## Brain Visualization"
   ]
  },
  {
   "cell_type": "code",
   "execution_count": 57,
   "metadata": {},
   "outputs": [],
   "source": [
    "# Define \"SUBJECTS_DIR\n",
    "import os\n",
    "\n",
    "os.environ[\"SUBJECTS_DIR\"] = \"/Applications/freesurfer/subjects\""
   ]
  },
  {
   "cell_type": "code",
   "execution_count": 59,
   "metadata": {},
   "outputs": [
    {
     "name": "stdout",
     "output_type": "stream",
     "text": [
      "\n",
      "Display these values on the brain. Use a sequential colormap (assuming\n",
      "these data move from low to high values), and add an alpha channel so the\n",
      "underlying anatomy is visible.\n",
      "\n"
     ]
    },
    {
     "name": "stderr",
     "output_type": "stream",
     "text": [
      "/var/folders/s8/x9wmskq97fv12b1hfqdfvybh0000gn/T/ipykernel_49543/836642491.py:41: FutureWarning: Series.__getitem__ treating keys as positions is deprecated. In a future version, integer keys will always be treated as labels (consistent with DataFrame behavior). To access a value by position, use `ser.iloc[pos]`\n",
      "  vtx_data = roi_data[labels]\n"
     ]
    }
   ],
   "source": [
    "# OPTION 1: Visualize cortical surface (using uploaded ROI data)\n",
    "\n",
    "print(__doc__)\n",
    "\n",
    "blue_cmap = LinearSegmentedColormap.from_list(\"custom_blue\", [\"#E0FFFF\", \"#87CEFA\", \"#4682B4\", \"#00008B\"])\n",
    "orange_cmap =LinearSegmentedColormap.from_list(\"yellow\", [\"#f4cca1\", \"#ff8c69\",\"#ff5533\", \"#ff2200\", \"#760909\"])\n",
    "\n",
    "subject_id = \"fsaverage\"\n",
    "hemi = \"lh\"\n",
    "surf = \"pial\" # Other options: \"pial\" produces more anatomically detailed surface, \"inflated\" produces smooth surface\n",
    "\n",
    "\"\"\"\n",
    "Bring up the visualization.\n",
    "\"\"\"\n",
    "\n",
    "# Initiate Brain object\n",
    "brain = Brain(subject_id, hemi, surf, background=\"white\", subjects_dir='/Applications/freesurfer/subjects')\n",
    "\n",
    "\"\"\"\n",
    "Read in the automatic parcellation of sulci and gyri.\n",
    "\"\"\"\n",
    "\n",
    "# Load annotation file\n",
    "aparc_file = os.path.join(os.environ[\"SUBJECTS_DIR\"],\n",
    "                          subject_id, \"label\",\n",
    "                          hemi + \".aparc.annot\")\n",
    "labels, ctab, names = nib.freesurfer.read_annot(aparc_file)\n",
    "\n",
    "\"\"\"\n",
    "Make a random vector of scalar data corresponding to a value for each region in\n",
    "the parcellation.\n",
    "\n",
    "\"\"\"\n",
    "\n",
    "# ENTER DATA HERE ('model variance,' 'ebm_variance', 'tau', etc.)\n",
    "roi_data = tau \n",
    "\n",
    "\"\"\"\n",
    "Make a vector containing the data point at each vertex.\n",
    "\"\"\"\n",
    "vtx_data = roi_data[labels]\n",
    "\n",
    "\"\"\"\n",
    "Handle vertices that are not defined in the annotation.\n",
    "\"\"\"\n",
    "vtx_data[labels == -1] = -1\n",
    "\n",
    "\"\"\"\n",
    "Display these values on the brain. Use a sequential colormap (assuming\n",
    "these data move from low to high values), and add an alpha channel so the\n",
    "underlying anatomy is visible.\n",
    "\"\"\"\n",
    "brain.add_data(vtx_data, 0, 0.4, thresh=None, colormap=blue_cmap, alpha=0.8) # EDIT alpha transparancy level here (0-1)\n",
    "\n",
    "# Select desired view of brain\n",
    "#brain.show_view('medial')"
   ]
  },
  {
   "cell_type": "code",
   "execution_count": 206,
   "metadata": {},
   "outputs": [
    {
     "name": "stdout",
     "output_type": "stream",
     "text": [
      "\n",
      "Display these values on the brain. Use a sequential colormap (assuming\n",
      "these data move from low to high values), and add an alpha channel so the\n",
      "underlying anatomy is visible.\n",
      "\n"
     ]
    },
    {
     "data": {
      "text/plain": [
       "((180.0,\n",
       "  90.0,\n",
       "  347.5779724121094,\n",
       "  array([ -1.9598465 , -17.93186188,  15.4875679 ])),\n",
       " 90.0)"
      ]
     },
     "execution_count": 206,
     "metadata": {},
     "output_type": "execute_result"
    }
   ],
   "source": [
    "# OPTION 2: Plot interior subcortical structures\n",
    "\n",
    "print(__doc__)\n",
    "\n",
    "subject_id = \"fsaverage\"\n",
    "hemi = \"lh\"\n",
    "surf = \"pial\"\n",
    "\n",
    "# Initiate brain object\n",
    "brain = Brain(subject_id, hemi, surf, cortex='ivory', background=\"white\", alpha=0.4) # EDIT alpha transparancy level here (0-1)\n",
    "\n",
    "# Manually enter the highest tau regions MNI coordinates and their intensity (in this case, their variance)\n",
    "coords_and_intensities = [\n",
    "    ([50, -60, 0], 1), # right middle temporal\n",
    "    ([-20, -10, -28], 0.9), # left entorhinal\n",
    "    ([50, -30, -5], 0.8), # right bank of sts\n",
    "    ([60, -10, -10], 0.7), # right superior temporal gyrus (anterior)\n",
    "    ([60, -20, 0], 0.7), # right superior temporal gyrus (middle)\n",
    "    ([60, -40, 10], 0.7), # right superior temporal gyrus (posterior)\n",
    "    ([20, -10, -28], 0.6), # right entorhinal\n",
    "    ([50, -60, 40], 0.5), # right inferior parietal (angular gyrus)\n",
    "    ([60, -40, 40], 0.5), # right inferior parietal (supramarginal gyrus)\n",
    "    ([-50, -40, -20], 0.4) # left inferior temporal gyrus\n",
    "]\n",
    "\n",
    "colors = [\n",
    "    (0.8, 0.0, 0.0),    # Dark Red\n",
    "    (1.0, 0.0, 0.0),    # Red\n",
    "    (1.0, 0.4, 0.4),    # Light Red\n",
    "    (1.0, 0.647, 0.0),  # Orange\n",
    "    (1.0, 0.647, 0.0),  # Orange\n",
    "    (1.0, 0.647, 0.0),  # Orange\n",
    "    (1.0, 0.804, 0.4),  # Light Orange\n",
    "    (1.0, 1.0, 0.0),    # Yellow\n",
    "    (1.0, 1.0, 0.0),    # Yellow\n",
    "    (1.0, 1.0, 0.4),    # Light Yellow\n",
    "]\n",
    "\n",
    "# Plot each focus point individually with specified colors\n",
    "for i, (coord, _) in enumerate(coords_and_intensities):\n",
    "    color = colors[i]\n",
    "    brain.add_foci([coord], color=color)\n",
    "\n",
    "# Show the brain with the plotted foci\n",
    "brain.show_view('lateral')"
   ]
  }
 ],
 "metadata": {
  "kernelspec": {
   "display_name": "Python 3",
   "language": "python",
   "name": "python3"
  },
  "language_info": {
   "codemirror_mode": {
    "name": "ipython",
    "version": 3
   },
   "file_extension": ".py",
   "mimetype": "text/x-python",
   "name": "python",
   "nbconvert_exporter": "python",
   "pygments_lexer": "ipython3",
   "version": "3.9.6"
  },
  "orig_nbformat": 4
 },
 "nbformat": 4,
 "nbformat_minor": 2
}
