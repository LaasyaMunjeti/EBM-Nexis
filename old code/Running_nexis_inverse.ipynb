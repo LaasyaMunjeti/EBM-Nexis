{
 "cells": [
  {
   "cell_type": "code",
   "execution_count": 1,
   "metadata": {},
   "outputs": [],
   "source": [
    "import os\n",
    "import numpy as np\n",
    "import scipy as sp\n",
    "import scipy.io\n",
    "from scipy.linalg import expm\n",
    "import pandas as pandas\n",
    "import matplotlib.pyplot as plt\n",
    "import seaborn as sns\n",
    "from scipy.integrate import odeint\n",
    "from scipy.optimize import minimize\n",
    "from Nexis_functions import heatmap, total_tau_plot, normalize_by_l2_norm, mse_matrix\n",
    "from functools import partial\n",
    "from Nexis_model_inverse import run_Nexis"
   ]
  },
  {
   "cell_type": "markdown",
   "metadata": {},
   "source": [
    "## Preparing Inputs"
   ]
  },
  {
   "cell_type": "code",
   "execution_count": 2,
   "metadata": {},
   "outputs": [],
   "source": [
    "# Prepare connectivity matrix\n",
    "\n",
    "# Load connectivity matrix\n",
    "connectivity_df = pandas.read_csv('Connectivity matrix.csv')\n",
    "\n",
    "# List of striatal regions to exclude from further analysis \n",
    "regions_to_exclude = ['Left-Pallidum','Right-Pallidum','Left-Accumbens-area','Right-Accumbens-area','Right-Putamen','Left-Putamen','Right-Caudate','Left-Caudate']\n",
    "\n",
    "# Find indices (in the region order of the connectivity matrix) for regions to exclude \n",
    "excluded_indices = [connectivity_df.columns.get_loc(region) for region in regions_to_exclude]\n",
    "\n",
    "# Delete striatal regions \n",
    "connectivity_df = connectivity_df.drop(index = excluded_indices)\n",
    "connectivity_df = connectivity_df.drop(columns=regions_to_exclude)\n",
    "\n",
    "# Convert connectivity matrix to a nROI x nROI array\n",
    "connectivity_matrix = connectivity_df.values\n",
    "\n",
    "# Normalize connectivity matrix (divide by max because min is already 0 in diagonal entries)\n",
    "max_value = np.max(connectivity_matrix)\n",
    "connectivity_matrix = connectivity_matrix / max_value"
   ]
  },
  {
   "cell_type": "code",
   "execution_count": 4,
   "metadata": {},
   "outputs": [],
   "source": [
    "# Define the number of regions  \n",
    "nROI = 86 - len(regions_to_exclude)\n",
    "\n",
    "# Order of regions (left subcortex, right subcortex, left cortex, right cortex)\n",
    "regions = ['Left-Cerebellum-Cortex','Left-Thalamus-Proper','Left-Hippocampus','Left-Amygdala','Left-VentralDC','Right-Cerebellum-Cortex','Right-Thalamus-Proper','Right-Hippocampus','Right-Amygdala','Right-VentralDC','ctx-lh-bankssts','ctx-lh-caudalanteriorcingulate','ctx-lh-caudalmiddlefrontal','ctx-lh-cuneus','ctx-lh-entorhinal','ctx-lh-fusiform','ctx-lh-inferiorparietal','ctx-lh-inferiortemporal','ctx-lh-isthmuscingulate','ctx-lh-lateraloccipital','ctx-lh-lateralorbitofrontal','ctx-lh-lingual','ctx-lh-medialorbitofrontal','ctx-lh-middletemporal','ctx-lh-parahippocampal','ctx-lh-paracentral','ctx-lh-parsopercularis','ctx-lh-parsorbitalis','ctx-lh-parstriangularis','ctx-lh-pericalcarine','ctx-lh-postcentral','ctx-lh-posteriorcingulate','ctx-lh-precentral','ctx-lh-precuneus','ctx-lh-rostralanteriorcingulate','ctx-lh-rostralmiddlefrontal','ctx-lh-superiorfrontal','ctx-lh-superiorparietal','ctx-lh-superiortemporal','ctx-lh-supramarginal','ctx-lh-frontalpole','ctx-lh-temporalpole','ctx-lh-transversetemporal','ctx-lh-insula', 'ctx-rh-bankssts', 'ctx-rh-caudalanteriorcingulate', 'ctx-rh-caudalmiddlefrontal', 'ctx-rh-cuneus',\t'ctx-rh-entorhinal', 'ctx-rh-fusiform','ctx-rh-inferiorparietal','ctx-rh-inferiortemporal',\t'ctx-rh-isthmuscingulate','ctx-rh-lateraloccipital','ctx-rh-lateralorbitofrontal','ctx-rh-lingual','ctx-rh-medialorbitofrontal','ctx-rh-middletemporal','ctx-rh-parahippocampal','ctx-rh-paracentral','ctx-rh-parsopercularis','ctx-rh-parsorbitalis','ctx-rh-parstriangularis','ctx-rh-pericalcarine','ctx-rh-postcentral','ctx-rh-posteriorcingulate',\t'ctx-rh-precentral',\t'ctx-rh-precuneus','ctx-rh-rostralanteriorcingulate','ctx-rh-rostralmiddlefrontal','ctx-rh-superiorfrontal','ctx-rh-superiorparietal','ctx-rh-superiortemporal','ctx-rh-supramarginal','ctx-rh-frontalpole','ctx-rh-temporalpole','ctx-rh-transversetemporal','ctx-rh-insula']\n",
    "\n",
    "# Load DK regional volumes \n",
    "regional_volumes = pandas.read_csv('DK_ROI_volumes.csv')\n",
    "\n",
    "# Convert to an 1 x nROI array \n",
    "regional_volumes = regional_volumes.values\n",
    "\n",
    "# Converting region order of DK to that of connectivity matrix\n",
    "new_order_DK = [68,69,70,71,72,73,74,75,76,77,78,79,80,81,82,83,84,85,0,1,2,3,4,5,6,7,8,9,10,11,12,13,14,15,16,17,18,19,20,21,22,23,24,25,26,27,28,29,30,31,32,33,34,35,36,37,38,39,40,41,42,43,44,45,46,47,48,49,50,51,52,53,54,55,56,57,58,59,60,61,62,63,64,65,66,67]\n",
    "regional_volumes_reordered = regional_volumes[new_order_DK, :]\n",
    "\n",
    "# Delete striatal regions\n",
    "regional_volumes_excluded = np.delete(regional_volumes_reordered,excluded_indices)"
   ]
  },
  {
   "cell_type": "code",
   "execution_count": 5,
   "metadata": {},
   "outputs": [],
   "source": [
    "# Define inputs to Nexis\n",
    "\n",
    "C_ = connectivity_matrix  # Connectivity matrix (nROI x nROI)\n",
    "U_ = np.zeros((nROI, 1)) # Cell type matrix (nROI x nTypes)/ gene_data_reordered\n",
    "t_vec_ = np.linspace(0, 15, 16)  # Time vector in terms of stages outputted by EBM (16 stages)\n",
    "w_dir_ = 0  # Since I don't care about directionality, set to 0 which overwrites s as 0.5\n",
    "volcorrect_ = 1  # Binary flag set to 0 if not correcting for volume, set to 1 if correcting for volume and add regional volume data to regional_volumes\n",
    "region_volumes_ = regional_volumes_excluded  # Regional volumes for normalization (nROI x 1)\n",
    "parameters = [0.26578466302222054, 0.4901505014988503, 1.0, 0.5, 0.0, 0.07] # ENTER FIXED PARAMETERS HERE (alpha, beta, gamma, s, b, p)"
   ]
  },
  {
   "cell_type": "markdown",
   "metadata": {},
   "source": [
    "## Load Patient Data"
   ]
  },
  {
   "cell_type": "code",
   "execution_count": 46,
   "metadata": {},
   "outputs": [],
   "source": [
    "# Upload subject data\n",
    "subject_data = pandas.read_csv('Cross-sectional stage and regional tau.csv')\n",
    "\n",
    "RID = 21 #EDIT PATIENT RID MANUALLY HERE\n",
    "subject = subject_data[subject_data['RID'] == RID] \n",
    "\n",
    "# Define number of time points \n",
    "num_time_points = subject.shape[0]\n",
    "\n",
    "# Define list with stage assingments for each time point\n",
    "stages = subject['ml_stage'].tolist() \n",
    "stages = [int(x) for x in stages] \n",
    "#time_point = np.array(stages) \n",
    "time_point = 2.5\n",
    "# LATER: DEFINE IN TERMS OF TIME WHERE TIME vs. STAGE RELAITONSHIP IS SIGNMOIDAL\n",
    "\n",
    "# Define patient tau data\n",
    "subject_tau = subject.iloc[:,3:]\n",
    "\n",
    "# Reorder regions to match region order of connectivity matrix\n",
    "new_order_ADNI = [68,69,70,71,72,73,74,75,76,77,78,79,80,81,82,83,84,85,34,35,36,37,38,39,40,41,42,43,44,45,46,47,48,49,50,51,52,53,54,55,56,57,58,59,60,61,62,63,64,65,66,67,0,1,2,3,4,5,6,7,8,9,10,11,12,13,14,15,16,17,18,19,20,21,22,23,24,25,26,27,28,29,30,31,32,33]\n",
    "subject_tau = subject_tau.iloc[:, new_order_ADNI]\n",
    "\n",
    "# Delete striatal regions \n",
    "subject_tau = subject_tau.drop(regions_to_exclude, axis = 1)\n",
    "\n",
    "# Convert to array and transpose so dim = nROI x # of stages\n",
    "subject_tau = subject_tau.to_numpy()\n",
    "subject_tau = subject_tau.T"
   ]
  },
  {
   "cell_type": "markdown",
   "metadata": {},
   "source": [
    "## Running Inverse Nexis"
   ]
  },
  {
   "cell_type": "code",
   "execution_count": 47,
   "metadata": {},
   "outputs": [
    {
     "name": "stdout",
     "output_type": "stream",
     "text": [
      "[0.         0.         0.62985461 1.15678862 0.         0.\n",
      " 0.         0.62406668 1.03868509 0.         0.         0.\n",
      " 0.         0.41275443 0.79975876 0.4346033  0.         0.\n",
      " 0.43685092 0.         0.42724925 0.44503335 0.49490331 0.\n",
      " 0.57235692 0.         0.         0.         0.         0.41702596\n",
      " 0.         0.         0.         0.         0.42948708 0.\n",
      " 0.         0.         0.         0.         0.4373372  0.65429442\n",
      " 0.         0.4161049  0.64802486 0.         0.         0.47624094\n",
      " 0.77902238 0.5305667  0.53228045 0.55259515 0.46200334 0.48509985\n",
      " 0.50164864 0.52215299 0.         0.64625491 0.60233919 0.\n",
      " 0.         0.45288573 0.43813729 0.49181594 0.         0.\n",
      " 0.         0.42690584 0.         0.         0.         0.43632345\n",
      " 0.60750905 0.49318478 0.         0.81544923 0.59093021 0.50896548]\n"
     ]
    }
   ],
   "source": [
    "# Set tau_threshold to percentile under which regional tau is sent to 0\n",
    "tau_threshold = 50\n",
    "\n",
    "# Set eigen_threshold to percentile over which eigen values are removed\n",
    "eigen_threshold = 100\n",
    "\n",
    "# Initialize run_Nexis class \n",
    "nexis_model = run_Nexis(C_=C_, U_=U_, t_vec_=t_vec_, w_dir_=w_dir_,\n",
    "                        volcorrect_=volcorrect_,\n",
    "                        region_volumes_=region_volumes_, parameters_=parameters)\n",
    "\n",
    "# Call the simulate_nexis method with the parameters\n",
    "x0_inverse = nexis_model.inverse_nexis(time_point, subject_tau, tau_threshold, eigen_threshold)\n",
    "x0_inverse = x0_inverse.flatten()\n",
    "\n",
    "# Print resulting matrix (nROI x # of time points)\n",
    "print(x0_inverse)"
   ]
  },
  {
   "cell_type": "markdown",
   "metadata": {},
   "source": [
    "## Compare to minimize() method"
   ]
  },
  {
   "cell_type": "code",
   "execution_count": 48,
   "metadata": {},
   "outputs": [
    {
     "name": "stdout",
     "output_type": "stream",
     "text": [
      "Sparcity: 1.861774043607209\n",
      "MSE: 0.19347598282933115\n"
     ]
    },
    {
     "data": {
      "text/plain": [
       "Text(0.5, 1.0, 'Initial vector optimization with two methods')"
      ]
     },
     "execution_count": 48,
     "metadata": {},
     "output_type": "execute_result"
    },
    {
     "data": {
      "image/png": "[encoded data removed]",
      "text/plain": [
       "<Figure size 640x480 with 2 Axes>"
      ]
     },
     "metadata": {},
     "output_type": "display_data"
    }
   ],
   "source": [
    "# Set all negative values in x0_inverse to 0\n",
    "x0_inverse[x0_inverse < 0] = 0\n",
    "\n",
    "# Upload x0 from minimize() method (check that thresholds and RIDS match for both methods)\n",
    "x0_minimize = pandas.read_csv('minimize() initial vector.csv')\n",
    "x0_minimize = x0_minimize.iloc[:, 1].values\n",
    "\n",
    "#Calculate MSE\n",
    "mse = mse_matrix(x0_inverse,x0_minimize)\n",
    "print('MSE: ' + str(mse))\n",
    "\n",
    "# Create a heatmap comparing to x0 vector methods\n",
    "sns.heatmap([x0_inverse,x0_minimize], cmap='viridis',yticklabels=['Inverse Nexis', 'Minimize()'], vmin=0, vmax=3)\n",
    "\n",
    "# Add labels and title\n",
    "plt.xlabel('Regions')\n",
    "plt.ylabel('Vector')\n",
    "plt.title('Initial vector optimization with two methods')"
   ]
  },
  {
   "cell_type": "code",
   "execution_count": 50,
   "metadata": {},
   "outputs": [
    {
     "name": "stdout",
     "output_type": "stream",
     "text": [
      "Sparcity: 1.861774043607209\n"
     ]
    },
    {
     "data": {
      "text/plain": [
       "Text(0.5, 1.0, 'Initial vector optimization with Inverse Nexis')"
      ]
     },
     "execution_count": 50,
     "metadata": {},
     "output_type": "execute_result"
    },
    {
     "data": {
      "image/png": "[encoded data removed]",
      "text/plain": [
       "<Figure size 800x300 with 2 Axes>"
      ]
     },
     "metadata": {},
     "output_type": "display_data"
    }
   ],
   "source": [
    "# Calculate sparcity\n",
    "l2_norm = np.linalg.norm(x0_inverse, ord=2)\n",
    "# Calculate the 75th percentile value\n",
    "percentile_75th = np.percentile(x0_inverse, 75)\n",
    "# Get the values in the vector that are below the 75th percentile\n",
    "lower_75th_values = x0_inverse[x0_inverse < percentile_75th]\n",
    "l2_norm_lower = np.linalg.norm(lower_75th_values, ord=2)\n",
    "sparcity = l2_norm / l2_norm_lower\n",
    "print('Sparcity: ' + str(sparcity))\n",
    "\n",
    "# Create a heatmap for just Nexis inverse\n",
    "plt.figure(figsize=(8, 3)) \n",
    "sns.heatmap([x0_inverse], cmap='viridis', vmin=0, vmax=3)\n",
    "\n",
    "# Add labels and title\n",
    "plt.xlabel('Regions')\n",
    "plt.title('Initial vector optimization with Inverse Nexis')"
   ]
  },
  {
   "cell_type": "markdown",
   "metadata": {},
   "source": [
    "## Loop through all subjects"
   ]
  },
  {
   "cell_type": "code",
   "execution_count": 70,
   "metadata": {},
   "outputs": [
    {
     "ename": "NameError",
     "evalue": "name 'Nexis_MSE' is not defined",
     "output_type": "error",
     "traceback": [
      "\u001b[0;31m---------------------------------------------------------------------------\u001b[0m",
      "\u001b[0;31mNameError\u001b[0m                                 Traceback (most recent call last)",
      "Cell \u001b[0;32mIn[70], line 33\u001b[0m\n\u001b[1;32m     30\u001b[0m patient_tau \u001b[39m=\u001b[39m patient_tau\u001b[39m.\u001b[39mT\n\u001b[1;32m     32\u001b[0m \u001b[39m# Perform the optimization\u001b[39;00m\n\u001b[0;32m---> 33\u001b[0m custom_Nexis_MSE \u001b[39m=\u001b[39m partial(Nexis_MSE, patient_tau\u001b[39m=\u001b[39mpatient_tau)\n\u001b[1;32m     35\u001b[0m result \u001b[39m=\u001b[39m minimize(custom_Nexis_MSE, init_guess, bounds\u001b[39m=\u001b[39mbounds, method\u001b[39m=\u001b[39m\u001b[39m'\u001b[39m\u001b[39mL-BFGS-B\u001b[39m\u001b[39m'\u001b[39m, \n\u001b[1;32m     36\u001b[0m                 options\u001b[39m=\u001b[39m{\u001b[39m'\u001b[39m\u001b[39mftol\u001b[39m\u001b[39m'\u001b[39m: \u001b[39m1e-6\u001b[39m, \u001b[39m'\u001b[39m\u001b[39mgtol\u001b[39m\u001b[39m'\u001b[39m: \u001b[39m1e-6\u001b[39m})\n\u001b[1;32m     38\u001b[0m \u001b[39mif\u001b[39;00m result\u001b[39m.\u001b[39msuccess:\n",
      "\u001b[0;31mNameError\u001b[0m: name 'Nexis_MSE' is not defined"
     ]
    }
   ],
   "source": [
    "# Avoid repeating any RIDS\n",
    "unique_rids = subject_data['RID'].unique()\n",
    "\n",
    "#Create a data frame for all patients seeding patterns\n",
    "column_names = ['RID','ctx-rh-bankssts', 'ctx-rh-caudalanteriorcingulate', 'ctx-rh-caudalmiddlefrontal', 'ctx-rh-cuneus',\t'ctx-rh-entorhinal', 'ctx-rh-fusiform','ctx-rh-inferiorparietal','ctx-rh-inferiortemporal',\t'ctx-rh-isthmuscingulate','ctx-rh-lateraloccipital','ctx-rh-lateralorbitofrontal','ctx-rh-lingual','ctx-rh-medialorbitofrontal','ctx-rh-middletemporal','ctx-rh-parahippocampal','ctx-rh-paracentral','ctx-rh-parsopercularis','ctx-rh-parsorbitalis','ctx-rh-parstriangularis','ctx-rh-pericalcarine','ctx-rh-postcentral','ctx-rh-posteriorcingulate',\t'ctx-rh-precentral',\t'ctx-rh-precuneus','ctx-rh-rostralanteriorcingulate','ctx-rh-rostralmiddlefrontal','ctx-rh-superiorfrontal','ctx-rh-superiorparietal','ctx-rh-superiortemporal','ctx-rh-supramarginal','ctx-rh-frontalpole','ctx-rh-temporalpole','ctx-rh-transversetemporal','ctx-rh-insula','ctx-lh-bankssts','ctx-lh-caudalanteriorcingulate',\t'ctx-lh-caudalmiddlefrontal','ctx-lh-cuneus','ctx-lh-entorhinal','ctx-lh-fusiform','ctx-lh-inferiorparietal','ctx-lh-inferiortemporal','ctx-lh-isthmuscingulate','ctx-lh-lateraloccipital','ctx-lh-lateralorbitofrontal','ctx-lh-lingual','ctx-lh-medialorbitofrontal','ctx-lh-middletemporal','ctx-lh-parahippocampal','ctx-lh-paracentral','ctx-lh-parsopercularis','ctx-lh-parsorbitalis','ctx-lh-parstriangularis','ctx-lh-pericalcarine','ctx-lh-postcentral','ctx-lh-posteriorcingulate','ctx-lh-precentral','ctx-lh-precuneus','ctx-lh-rostralanteriorcingulate','ctx-lh-rostralmiddlefrontal','ctx-lh-superiorfrontal','ctx-lh-superiorparietal',\t'ctx-lh-superiortemporal','ctx-lh-supramarginal','ctx-lh-frontalpole','ctx-lh-temporalpole','ctx-lh-transversetemporal','ctx-lh-insula','Left-Cerebellum-Cortex','Left-Thalamus-Proper','Left-Hippocampus','Left-Amygdala','Left-VentralDC','Right-Cerebellum-Cortex','Right-Thalamus-Proper','Right-Hippocampus','Right-Amygdala',\t'Right-VentralDC']\n",
    "seeding_all = pandas.DataFrame(columns=column_names)\n",
    "\n",
    "for rid in unique_rids:\n",
    "\n",
    "    patient = subject_data[subject_data['RID'] == rid] \n",
    "\n",
    "    # Define number of time points \n",
    "    num_time_points = patient.shape[0]\n",
    "\n",
    "    # Define list with stage assingments for each time point\n",
    "    stages = patient['ml_stage'].tolist()\n",
    "    stages = [int(x) for x in stages]\n",
    "\n",
    "    # Define patient tau data\n",
    "    patient_tau = patient.iloc[:,3:]\n",
    "\n",
    "    # Reorder regions to match region order of connectivity matrix\n",
    "    patient_tau = patient_tau.iloc[:, new_order_ADNI]\n",
    "\n",
    "    # Delete striatal regions \n",
    "    patient_tau = patient_tau.drop(regions_to_exclude, axis = 1)\n",
    "\n",
    "    # Convert to array and transpose so dim = nROI x # of stages\n",
    "    patient_tau = patient_tau.to_numpy()\n",
    "    patient_tau = patient_tau.T\n",
    "\n",
    "    # Perform the optimization\n",
    "    custom_Nexis_MSE = partial(Nexis_MSE, patient_tau=patient_tau)\n",
    "\n",
    "    result = minimize(custom_Nexis_MSE, init_guess, bounds=bounds, method='L-BFGS-B', \n",
    "                    options={'ftol': 1e-6, 'gtol': 1e-6})\n",
    "    \n",
    "    if result.success:\n",
    "        optimized_initial_vec = result.x\n",
    "        optimized_initial_vec = optimized_initial_vec.tolist( )\n",
    "    \n",
    "    # Create data frame for the subject\n",
    "    seeding = pandas.DataFrame([[rid] + optimized_initial_vec], columns=column_names)\n",
    "\n",
    "    # Concatenate the original DataFrame with the new DataFrame\n",
    "    seeding_all = pandas.concat([seeding_all, seeding], ignore_index=True)\n",
    "\n",
    "seeding_all"
   ]
  },
  {
   "cell_type": "code",
   "execution_count": 42,
   "metadata": {},
   "outputs": [],
   "source": [
    "# Save to a csv \n",
    "seeding_all.to_csv('Seeding patterns.csv')"
   ]
  }
 ],
 "metadata": {
  "kernelspec": {
   "display_name": "Python 3",
   "language": "python",
   "name": "python3"
  },
  "language_info": {
   "codemirror_mode": {
    "name": "ipython",
    "version": 3
   },
   "file_extension": ".py",
   "mimetype": "text/x-python",
   "name": "python",
   "nbconvert_exporter": "python",
   "pygments_lexer": "ipython3",
   "version": "3.9.18"
  },
  "orig_nbformat": 4
 },
 "nbformat": 4,
 "nbformat_minor": 2
}
