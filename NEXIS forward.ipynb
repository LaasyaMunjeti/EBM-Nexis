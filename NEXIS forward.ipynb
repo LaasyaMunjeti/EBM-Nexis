{
 "cells": [
  {
   "cell_type": "code",
   "execution_count": 1,
   "metadata": {},
   "outputs": [],
   "source": [
    "import os\n",
    "import numpy as np\n",
    "import scipy as sp\n",
    "import scipy.io\n",
    "from scipy.linalg import expm\n",
    "import pandas as pandas\n",
    "import matplotlib.pyplot as plt\n",
    "from scipy.integrate import odeint\n",
    "from scipy.optimize import minimize\n",
    "from Nexis_functions import heatmap, total_tau_plot, normalize_by_l2_norm, mse_matrix"
   ]
  },
  {
   "cell_type": "markdown",
   "metadata": {},
   "source": [
    "## Nexis"
   ]
  },
  {
   "cell_type": "code",
   "execution_count": 2,
   "metadata": {},
   "outputs": [],
   "source": [
    "class loading_matfiles:\n",
    "    def __init__(self,datadir_=''):\n",
    "        if (datadir_==''):\n",
    "            curdir = os.getcwd()\n",
    "            subdir = 'raw_data_mouse'\n",
    "            datadir_ = os.path.join(curdir,subdir)\n",
    "        self.datadir = datadir_ # Directory to load dependences from\n",
    "    \n",
    "    def load_file(self,datafile):\n",
    "        datafile = os.path.join(self.datadir,datafile)\n",
    "        datamat = scipy.io.loadmat(datafile)\n",
    "        return datamat\n",
    "\n",
    "class run_Nexis:\n",
    "    def __init__(self,C_,U_,init_vec_,t_vec_,w_dir_=0,volcorrect_=0,use_baseline_=0,region_volumes_=[], logistic_term_=0, datadir_=''):\n",
    "        self.C = C_ # Connectivity matrix, nROI x nROI\n",
    "        self.U = U_ # Matrix or vector of cell type or gene expression, nROI x nTypes\n",
    "        self.init_vec = init_vec_ # Binary vector indicating seed location OR array of baseline pathology values, nROI x 1\n",
    "        self.t_vec = t_vec_ # Vector of time points to output model predictions, 1 x nt\n",
    "        self.volcorrect = volcorrect_ # Binary flag indicating whether to use volume correction - ask ben \n",
    "        self.w_dir = w_dir_ # Binary flag indicating whether to use directionality or not \n",
    "        self.use_baseline = use_baseline_ # Binary flag indicating whether you are using baseline or a binary seed to initialize the model\n",
    "        self.region_volumes = region_volumes_ # Array of region volumes, nROI x 1 if applicable \n",
    "        self.logistic_term = logistic_term_ #ADDED BY ROBIN\n",
    "        \n",
    "        if (datadir_==''):\n",
    "            curdir = os.getcwd()\n",
    "            subdir = 'raw_data_mouse'\n",
    "            datadir_ = os.path.join(curdir,subdir)\n",
    "        self.datadir = datadir_ # Directory to load dependences from\n",
    "\n",
    "    def simulate_nexis(self, parameters):\n",
    "        \"\"\"\n",
    "        Returns a matrix, Y, that is nROI x nt representing the modeled Nexis pathology\n",
    "        given the provided parameters. alpha, beta, and gamma should be nonnegative scalars;\n",
    "        s should be bounded between 0 and 1; b and p should be nCT-long vectors\n",
    "        \"\"\"\n",
    "        # Define parameters\n",
    "        ntypes = np.size(self.U,axis=1)\n",
    "        alpha = parameters[0] # global connectome-independent growth (range [0,5])\n",
    "        beta = parameters[1] # global diffusivity rate (range [0,5])\n",
    "        if self.use_baseline:\n",
    "            gamma = 1\n",
    "        else:\n",
    "            gamma = parameters[2] # seed rescale value (range [0,10])\n",
    "        if self.w_dir==0:\n",
    "            s = 0.5\n",
    "        else:\n",
    "            s = parameters[3] # directionality (0 = anterograde, 1 = retrograde)\n",
    "        b = np.transpose(parameters[4:(ntypes+4)]) # cell-type-dependent spread modifier (range [-5,5])\n",
    "        p = np.transpose(parameters[(ntypes+4):6]) # cell-type-dependent growth modifier (range [-5,5]) #EDITED\n",
    "        k = parameters[6] # Carrying capacity ADDED\n",
    "        \n",
    "        # Define starting pathology x0\n",
    "        x0 = gamma * self.init_vec\n",
    "        \n",
    "        # Define diagonal matrix Gamma containing spread-independent terms\n",
    "        s_p = np.dot(self.U,p)\n",
    "        Gamma = np.diag(s_p) + (alpha * np.eye(len(s_p))) \n",
    "\n",
    "        # Define Laplacian matrix L\n",
    "        C_dir = (1-s) * np.transpose(self.C) + s * self.C\n",
    "        coldegree = np.sum(C_dir,axis=0)\n",
    "        L_raw = np.diag(coldegree) - C_dir\n",
    "        s_b = np.dot(self.U,b)\n",
    "        s_b = np.reshape(s_b,[len(s_b),1])\n",
    "        S_b = np.tile(s_b,len(s_b)) + np.ones([len(s_b),len(s_b)])\n",
    "        L = np.multiply(L_raw,np.transpose(S_b))\n",
    "\n",
    "        # Apply volume correction if applicable\n",
    "        if self.volcorrect:\n",
    "            voxels_2hem = self.region_volumes\n",
    "\n",
    "            # ROBIN'S EDIT\n",
    "            inv_voxels_2hem = np.diag(np.squeeze(voxels_2hem).astype(float) ** (-1))\n",
    "            \n",
    "            #ORIGINAL\n",
    "            #inv_voxels_2hem = np.diag(np.squeeze(voxels_2hem) ** (-1))\n",
    "            \n",
    "            L = np.mean(voxels_2hem) * np.dot(inv_voxels_2hem,L)\n",
    "\n",
    "        # Define system dydt = Ax\n",
    "        A = Gamma - (beta * L)\n",
    "\n",
    "        # Solve \n",
    "        if self.logistic_term:\n",
    "            y = self.sim_logistic(self.t_vec,x0,A,Gamma,k) \n",
    "        else:\n",
    "            y = self.forward_sim(A,self.t_vec,x0)\n",
    "\n",
    "        return y\n",
    "    \n",
    "    # Solve via analytic method (no logistic term)\n",
    "    def forward_sim(self,A_,t_,x0_):\n",
    "        y_ = np.zeros([np.shape(A_)[0],len(t_)])\n",
    "        for i in list(range(len(t_))):\n",
    "            ti = t_[i]\n",
    "            y_[:,i] = np.dot(expm(A_*ti),np.squeeze(x0_)) \n",
    "        return y_\n",
    "    \n",
    "    # Solve via odeint with logistic term\n",
    "    def sim_logistic(self,t_,x0_,A_,Gamma_,k_):\n",
    "\n",
    "        # Define ODE function with a logistic term\n",
    "        def ode_func(y, t, A, Gamma, k):\n",
    "            dydt = np.dot(A, y) - np.dot(Gamma,np.square(y)) / k\n",
    "            return dydt\n",
    "\n",
    "        # Initial condition\n",
    "        y0 = x0_\n",
    "\n",
    "        # Solve ODE using odeint\n",
    "        sol = odeint(ode_func, y0, t_, args=(A_,Gamma_,k_))\n",
    "\n",
    "        # Transpose so that sol is an array with dim nROI x time points\n",
    "        sol = sol.T\n",
    "\n",
    "        return sol"
   ]
  },
  {
   "cell_type": "markdown",
   "metadata": {},
   "source": [
    "## Preparing Inputs"
   ]
  },
  {
   "cell_type": "code",
   "execution_count": 3,
   "metadata": {},
   "outputs": [],
   "source": [
    "# Prepare connectivity matrix\n",
    "\n",
    "# Load connectivity matrix\n",
    "connectivity_df = pandas.read_csv('Connectivity matrix.csv')\n",
    "\n",
    "# List of striatal regions to exclude from further analysis due to errors in tau-PET imaging (CAN EDIT THIS)\n",
    "regions_to_exclude = ['Left-Pallidum','Right-Pallidum','Left-Accumbens-area','Right-Accumbens-area','Right-Putamen','Left-Putamen','Right-Caudate','Left-Caudate']\n",
    "\n",
    "# Find indices (in the region order of the connectivity matrix) for regions to exclude \n",
    "excluded_indices = [connectivity_df.columns.get_loc(region) for region in regions_to_exclude]\n",
    "\n",
    "# Define total number of subcortical regions and cortical regions per hemisphere\n",
    "total_sub = 9 - len(regions_to_exclude)/2\n",
    "total_cor = 34\n",
    "\n",
    "# Delete striatal regions \n",
    "connectivity_df = connectivity_df.drop(index = excluded_indices)\n",
    "connectivity_df = connectivity_df.drop(columns=regions_to_exclude)\n",
    "\n",
    "# Convert connectivity matrix to a nROI x nROI array\n",
    "connectivity_matrix = connectivity_df.values\n",
    "\n",
    "# Normalize connectivity matrix (divide by max because min is already 0 in diagonal entries)\n",
    "max = np.max(connectivity_matrix)\n",
    "connectivity_matrix = connectivity_matrix / max"
   ]
  },
  {
   "cell_type": "code",
   "execution_count": 4,
   "metadata": {},
   "outputs": [],
   "source": [
    "# Define the number of regions  \n",
    "nROI = 86 - len(regions_to_exclude)\n"
   ]
  },
  {
   "cell_type": "code",
   "execution_count": 5,
   "metadata": {},
   "outputs": [],
   "source": [
    "# Initial vector\n",
    "\n",
    "# SET INITIAL VECTOR METHOD ('baseline' or 'binary')\n",
    "init_vec_method = 'baseline' \n",
    "\n",
    "# OPTION 1: Use baseline data from EBM tau time series\n",
    "if init_vec_method == 'baseline':\n",
    "\n",
    "    init_con = pandas.read_csv('Regional tau time series - cerbellum normalized.csv')\n",
    "\n",
    "    # Housekeeping\n",
    "    init_con = init_con.drop('Unnamed: 0',axis=1)\n",
    "\n",
    "    # Reorder regions to match region order of connectivity matrix\n",
    "    new_order = [68,69,70,71,72,73,74,75,76,77,78,79,80,81,82,83,84,85,34,35,36,37,38,39,40,41,42,43,44,45,46,47,48,49,50,51,52,53,54,55,56,57,58,59,60,61,62,63,64,65,66,67,0,1,2,3,4,5,6,7,8,9,10,11,12,13,14,15,16,17,18,19,20,21,22,23,24,25,26,27,28,29,30,31,32,33]\n",
    "    init_con_reordered = init_con.iloc[:, new_order]\n",
    "\n",
    "    # Delete striatal regions \n",
    "    columns_to_delete = init_con_reordered.columns[excluded_indices]\n",
    "    init_con_excluded = init_con_reordered.drop(columns_to_delete, axis = 1)\n",
    "\n",
    "    # Take the first row (time point 0) as initial vector\n",
    "    init_vec = init_con_excluded.iloc[0].values\n",
    "\n",
    "    # Set use_baseline NEXIS input to 1 to indicate use of baseline data as initial vector  \n",
    "    use_baseline_ = 1 \n",
    "\n",
    "#OPTION 2: Binary vector indicating seeding location \n",
    "if init_vec_method == 'binary':\n",
    "\n",
    "    # lh-entorhinal: 14 if excluding striatal regions (22 if not)\n",
    "    # rh-entorhinal: 48 if excluding striatal regions (56 if not)\n",
    "\n",
    "    # Create a 1D array of zeros with length nROI\n",
    "    array_length = nROI\n",
    "    init_vec = np.zeros(array_length)\n",
    "\n",
    "    # Set entries for seeding location to 1 \n",
    "    init_vec[14] = 1 \n",
    "    init_vec[48] = 1\n",
    "\n",
    "    # Set use_baseline NEXIS input to 0 to indicate use of binary initial vector \n",
    "    use_baseline_ = 0 "
   ]
  },
  {
   "cell_type": "code",
   "execution_count": 6,
   "metadata": {},
   "outputs": [],
   "source": [
    "# Load DK regional volumes \n",
    "regional_volumes = pandas.read_csv('DK_ROI_volumes.csv')\n",
    "\n",
    "# Convert to an 1 x nROI array \n",
    "regional_volumes = regional_volumes.values\n",
    "\n",
    "# Reorder to match that of connectivity matrix\n",
    "new_order = [68,69,70,71,72,73,74,75,76,77,78,79,80,81,82,83,84,85,0,1,2,3,4,5,6,7,8,9,10,11,12,13,14,15,16,17,18,19,20,21,22,23,24,25,26,27,28,29,30,31,32,33,34,35,36,37,38,39,40,41,42,43,44,45,46,47,48,49,50,51,52,53,54,55,56,57,58,59,60,61,62,63,64,65,66,67]\n",
    "regional_volumes_reordered = regional_volumes[new_order, :]\n",
    "\n",
    "# Delete striatal regions\n",
    "regional_volumes_excluded = np.delete(regional_volumes_reordered,excluded_indices)"
   ]
  },
  {
   "cell_type": "code",
   "execution_count": 7,
   "metadata": {},
   "outputs": [],
   "source": [
    "# Define inputs to NEXIS\n",
    "\n",
    "C_ = connectivity_matrix  # Connectivity matrix (nROI x nROI)\n",
    "U_ = np.zeros((nROI, 1))  # Don't care about cell types (nROI x nTypes), set to nROI x 1 array of random numbers or 0\n",
    "init_vec_ = init_vec # Initial tau vector (nROI x 1)\n",
    "t_vec_ = np.linspace(0, 10, 100)  # Time vector (include 100 time points) (1 x nt)\n",
    "w_dir_ = 0  # Since I don't care about directionality, set to 0 which overwrites s as 0.5\n",
    "volcorrect_ = 1  # Binary flag set to 0 if not correcting for volume, set to 1 if correcting for volume and add regional volume data to regional_volumes\n",
    "region_volumes_ = regional_volumes_excluded  # Regional volumes for normalization (nROI x 1)\n",
    "degreecorrect_ = 0 # Binary flag indicating whether to normalize by degree (for Ashish, normally set this to 0)\n",
    "logistic_term_ = 1 # Binary flag set to 1 to run with logistic term and 0 to run without\n",
    "datadir_ = \"../NDM output/NDM_output.csv\"  # Data directory for output"
   ]
  },
  {
   "cell_type": "code",
   "execution_count": 15,
   "metadata": {},
   "outputs": [
    {
     "name": "stdout",
     "output_type": "stream",
     "text": [
      "<class 'numpy.ndarray'>\n"
     ]
    }
   ],
   "source": [
    "print(type(init_vec_))"
   ]
  },
  {
   "cell_type": "markdown",
   "metadata": {},
   "source": [
    "## Load EBM Data"
   ]
  },
  {
   "cell_type": "code",
   "execution_count": 8,
   "metadata": {},
   "outputs": [],
   "source": [
    "# Load tau time series from EBM (E(t)) to compare with NDM output (Y)\n",
    "\n",
    "EBM_data = pandas.read_csv('Regional tau time series - cerbellum normalized.csv')\n",
    "\n",
    "# Housekeeping\n",
    "EBM_data = EBM_data.drop('Unnamed: 0',axis=1)\n",
    "\n",
    "# Convert to an nROI x 100 array and transpose\n",
    "EBM_data_array = EBM_data.values\n",
    "EBM_data_transposed = EBM_data_array.T\n",
    "\n",
    "# Reorder regions to match region order in NDM output\n",
    "new_order = [68,69,70,71,72,73,74,75,76,77,78,79,80,81,82,83,84,85,34,35,36,37,38,39,40,41,42,43,44,45,46,47,48,49,50,51,52,53,54,55,56,57,58,59,60,61,62,63,64,65,66,67,0,1,2,3,4,5,6,7,8,9,10,11,12,13,14,15,16,17,18,19,20,21,22,23,24,25,26,27,28,29,30,31,32,33]\n",
    "EBM_data_reordered = EBM_data_transposed[new_order, :]\n",
    "\n",
    "# Delete striatal regions \n",
    "EBM_data_excluded = np.delete(EBM_data_reordered, excluded_indices,axis = 0)\n",
    "\n",
    "# Normalize by L2 norm\n",
    "normalized_EBM_data_excluded = normalize_by_l2_norm(EBM_data_excluded)"
   ]
  },
  {
   "cell_type": "markdown",
   "metadata": {},
   "source": [
    "## Parameter Optimization"
   ]
  },
  {
   "cell_type": "code",
   "execution_count": 9,
   "metadata": {},
   "outputs": [
    {
     "name": "stdout",
     "output_type": "stream",
     "text": [
      "Optimization successful. Optimized parameters (alpha, beta, gamma, s, b, p, k): [0.26578466302222054, 0.4901505014988503, 1.0, 0.5, 0.0, 0.07, 20.000567683872493]\n"
     ]
    }
   ],
   "source": [
    "#Optimize parameters by minimizing MSE between EBM data and Y\n",
    "\n",
    "# Define a function that runs Nexis and calculates the MSE of Y and E(t) based on parameters alpha and beta (and gamma if using baseline seeding)\n",
    "def Nexis_MSE(params):\n",
    "    \n",
    "    param1, param2, param3, param4, param5, param6, param7 = params \n",
    "    # param1 = alpha, param2 = beta, param3 = gamma, param4 = s, param5 = b, param6 = p, param7 =k\n",
    "    \n",
    "   # Initialize run_Nexis class \n",
    "    nexis_model_mse = run_Nexis(C_=C_, U_=U_, init_vec_=init_vec_, t_vec_=t_vec_, w_dir_=w_dir_,\n",
    "                        volcorrect_=volcorrect_, use_baseline_=use_baseline_,\n",
    "                        region_volumes_=region_volumes_, degreecorrect_=degreecorrect_, logistic_term_ = logistic_term_, datadir_=datadir_)\n",
    "\n",
    "    # Parameters for simulate_nexis method\n",
    "    parameters = [param1, param2, param3, param4, param5, param6, param7]  # [alpha, beta, gamma, s, b, p , k] \n",
    "\n",
    "    # Call the simulate_nexis method with the parameters\n",
    "    Y = nexis_model_mse.simulate_nexis(parameters)\n",
    "\n",
    "    error = mse_matrix(EBM_data_excluded, Y)\n",
    "    \n",
    "    return error\n",
    "\n",
    "# Initial guesses for parameters (alpha, beta, gamma, s, b, p, k) # ADJUST THESE\n",
    "init_guess = np.array([0.04, 1.01, 1, 0.5, 0, 0.07, 20])\n",
    "\n",
    "# Bounds for each parameter [(min alpha, max alpha), (min beta, max beta), (min gamma, max gamma), etc. # ADJUST THESE\n",
    "bounds = [(0, 2),(0, 5),(0,3),(0.5,0.5),(0,0),(0,1),(0,50)]\n",
    "\n",
    "# Perform the optimization\n",
    "result = minimize(Nexis_MSE, init_guess, bounds=bounds, method='L-BFGS-B', \n",
    "                  options={'ftol': 1e-6, 'gtol': 1e-6})\n",
    "\n",
    "# Check the results\n",
    "if result.success:\n",
    "    optimized_params = result.x\n",
    "    optimized_params = optimized_params.tolist( )\n",
    "    print(f\"Optimization successful. Optimized parameters (alpha, beta, gamma, s, b, p, k): {optimized_params}\")\n",
    "else:\n",
    "    print(\"Optimization failed.\", result.message)"
   ]
  },
  {
   "cell_type": "markdown",
   "metadata": {},
   "source": [
    "## Running Nexis"
   ]
  },
  {
   "cell_type": "code",
   "execution_count": 10,
   "metadata": {},
   "outputs": [
    {
     "name": "stdout",
     "output_type": "stream",
     "text": [
      "[[ 0.00147594  0.00195084  0.00242528 ...  0.21392711  0.22094803\n",
      "   0.22818535]\n",
      " [ 0.21062783  0.20883812  0.20715621 ...  0.99293414  1.01834701\n",
      "   1.04438569]\n",
      " [ 0.21858387  0.21964649  0.22086287 ...  1.16081646  1.18742\n",
      "   1.21465583]\n",
      " ...\n",
      " [ 0.09774004  0.10255251  0.107339   ...  1.14856423  1.17553425\n",
      "   1.2031405 ]\n",
      " [-0.01291369 -0.00181678  0.00844968 ...  1.07931383  1.10646299\n",
      "   1.13425476]\n",
      " [ 0.0944597   0.09532132  0.09640821 ...  1.06134442  1.08817371\n",
      "   1.11564623]]\n"
     ]
    },
    {
     "data": {
      "image/png": "[encoded data removed]",
      "text/plain": [
       "<Figure size 640x480 with 2 Axes>"
      ]
     },
     "metadata": {},
     "output_type": "display_data"
    }
   ],
   "source": [
    "# Initialize run_Nexis class \n",
    "nexis_model = run_Nexis(C_=C_, U_=U_, init_vec_=init_vec_, t_vec_=t_vec_, w_dir_=w_dir_,\n",
    "                        volcorrect_=volcorrect_, use_baseline_=use_baseline_,\n",
    "                        region_volumes_=region_volumes_, degreecorrect_=degreecorrect_, logistic_term_=logistic_term_, datadir_=datadir_)\n",
    "\n",
    "# Parameters for simulate_nexis method\n",
    "parameters = optimized_params  # [alpha, beta, gamma, s, b, p, k] # CAN MANUALLY SET PARAMETERS HERE\n",
    "\n",
    "# alpha = global coupling constant \n",
    "# beta = diffusivity constant (0-5)\n",
    "# gamma = seed rescale value that fits binary initial vector to the same scale as empirical data from EBM\n",
    "# s = directionality constant (if no directionaility, set to 0.5)\n",
    "# b, p only relevent to cell type analysis\n",
    "\n",
    "# Call the simulate_nexis method with the parameters\n",
    "Y = nexis_model.simulate_nexis(parameters)\n",
    "\n",
    "# Normalize by L2 norm\n",
    "normalized_Y = normalize_by_l2_norm(Y)\n",
    "\n",
    "# Print resulting matrix (nROI x # of time points)\n",
    "print(Y)\n",
    "\n",
    "# Plot heatmap of Y\n",
    "plt = heatmap(init_vec_method, Y)"
   ]
  },
  {
   "cell_type": "markdown",
   "metadata": {},
   "source": [
    "## Check Results"
   ]
  },
  {
   "cell_type": "code",
   "execution_count": 11,
   "metadata": {},
   "outputs": [
    {
     "name": "stdout",
     "output_type": "stream",
     "text": [
      "Mean squared error: 0.0011444416171823072\n"
     ]
    }
   ],
   "source": [
    "# Calculate MSE between E(t) and Y\n",
    "mse = mse_matrix(normalized_EBM_data_excluded, normalized_Y)\n",
    "print('Mean squared error: ' + str(mse))"
   ]
  },
  {
   "cell_type": "code",
   "execution_count": 12,
   "metadata": {},
   "outputs": [
    {
     "data": {
      "text/plain": [
       "<function matplotlib.pyplot.show(close=None, block=None)>"
      ]
     },
     "execution_count": 12,
     "metadata": {},
     "output_type": "execute_result"
    },
    {
     "data": {
      "image/png": "[encoded data removed]",
      "text/plain": [
       "<Figure size 1000x600 with 1 Axes>"
      ]
     },
     "metadata": {},
     "output_type": "display_data"
    }
   ],
   "source": [
    "# Plot total tau over time to compare the scales of EBM and Y\n",
    "plt = total_tau_plot(Y, EBM_data_excluded, 'Y', 'EBM')\n",
    "plt.show"
   ]
  },
  {
   "cell_type": "code",
   "execution_count": 25,
   "metadata": {},
   "outputs": [],
   "source": [
    "# Save Y to .csv\n",
    "Nexis = pandas.DataFrame(Y)\n",
    "Nexis.to_csv('Fitted_Nexis_1_subtype.csv')"
   ]
  }
 ],
 "metadata": {
  "kernelspec": {
   "display_name": "Python 3",
   "language": "python",
   "name": "python3"
  },
  "language_info": {
   "codemirror_mode": {
    "name": "ipython",
    "version": 3
   },
   "file_extension": ".py",
   "mimetype": "text/x-python",
   "name": "python",
   "nbconvert_exporter": "python",
   "pygments_lexer": "ipython3",
   "version": "3.9.18"
  },
  "orig_nbformat": 4
 },
 "nbformat": 4,
 "nbformat_minor": 2
}
