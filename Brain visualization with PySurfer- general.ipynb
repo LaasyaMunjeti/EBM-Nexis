{
 "cells": [
  {
   "cell_type": "code",
   "execution_count": 3,
   "metadata": {},
   "outputs": [
    {
     "name": "stdout",
     "output_type": "stream",
     "text": [
      "********************************************************************************\n",
      "WARNING: Imported VTK version (9.3) does not match the one used\n",
      "         to build the TVTK classes (9.2). This may cause problems.\n",
      "         Please rebuild TVTK.\n",
      "********************************************************************************\n",
      "\n"
     ]
    }
   ],
   "source": [
    "# Load libraries\n",
    "import os\n",
    "os.environ['QT_API'] = 'pyqt4'  # or 'pyside2'\n",
    "import numpy as np\n",
    "import nibabel as nib\n",
    "import pandas as pandas\n",
    "from surfer import Brain\n",
    "import matplotlib.pyplot as plt\n",
    "import os\n"
   ]
  },
  {
   "cell_type": "markdown",
   "metadata": {},
   "source": [
    "## Load data"
   ]
  },
  {
   "cell_type": "code",
   "execution_count": 5,
   "metadata": {},
   "outputs": [],
   "source": [
    "# Load data here\n",
    "data= pandas.read_csv()\n",
    "\n",
    "# DATA NEEDS TO MATCH ANNOTATION FILE WITH THE FOLLOWING FORMAT: \n",
    "# unknown, \n",
    "# ctx-lh-bankssts\n",
    "# ctx-lh-caudalanteriorcingulate\n",
    "# ctx-lh-caudalmiddlefrontal\t\n",
    "# corpuscallosum\t\n",
    "# ctx-lh-cuneus\t\n",
    "# ctx-lh-entorhinal\t\n",
    "# ctx-lh-fusiform\n",
    "# ctx-lh-inferiorparietal\t\n",
    "# ctx-lh-inferiortemporal\n",
    "# ctx-lh-isthmuscingulate\t\n",
    "# ctx-lh-lateraloccipital\t\n",
    "# ctx-lh-lateralorbitofrontal\t\n",
    "# ctx-lh-lingual\t\n",
    "# ctx-lh-medialorbitofrontal\t\n",
    "# ctx-lh-middletemporal\t\n",
    "# ctx-lh-parahippocampal\t\n",
    "# ctx-lh-paracentral\t\n",
    "# ctx-lh-parsopercularis\t\n",
    "# ctx-lh-parsorbitalis\t\n",
    "# ctx-lh-parstriangularis\t\n",
    "# ctx-lh-pericalcarine\t\n",
    "# ctx-lh-postcentral\t\n",
    "# ctx-lh-posteriorcingulate\t\n",
    "# ctx-lh-precentral\t\n",
    "# ctx-lh-precuneus\t\n",
    "# ctx-lh-rostralanteriorcingulate\t\n",
    "# ctx-lh-rostralmiddlefrontal\t\n",
    "# ctx-lh-superiorfrontal\n",
    "# ctx-lh-superiorparietal\t\n",
    "# ctx-lh-superiortemporal\t\n",
    "# ctx-lh-supramarginal\n",
    "# ctx-lh-frontalpole\n",
    "# ctx-lh-temporalpole\n",
    "# ctx-lh-transversetemporal\n",
    "# ctx-lh-insula\n",
    "\n"
   ]
  },
  {
   "cell_type": "markdown",
   "metadata": {},
   "source": [
    "## Brain Visualization"
   ]
  },
  {
   "cell_type": "code",
   "execution_count": 152,
   "metadata": {},
   "outputs": [
    {
     "name": "stdout",
     "output_type": "stream",
     "text": [
      "\n",
      "Display these values on the brain. Use a sequential colormap (assuming\n",
      "these data move from low to high values), and add an alpha channel so the\n",
      "underlying anatomy is visible.\n",
      "\n"
     ]
    },
    {
     "name": "stderr",
     "output_type": "stream",
     "text": [
      "/var/folders/bd/p6dnm7ns0tb9glfgc_h835k40000gn/T/ipykernel_50293/1027481287.py:43: FutureWarning: Series.__getitem__ treating keys as positions is deprecated. In a future version, integer keys will always be treated as labels (consistent with DataFrame behavior). To access a value by position, use `ser.iloc[pos]`\n",
      "  vtx_data = roi_data[labels]\n",
      "Exception occurred in traits notification handler for object: <mayavi.filters.threshold.Threshold object at 0x2b42b6130>, trait: upper_threshold, old value: 1e+20, new value: 0.2089547309708296\n",
      "Traceback (most recent call last):\n",
      "  File \"/opt/homebrew/lib/python3.9/site-packages/traits/trait_notifiers.py\", line 342, in __call__\n",
      "    self.handler(*args)\n",
      "  File \"/opt/homebrew/lib/python3.9/site-packages/mayavi/filters/threshold.py\", line 174, in _upper_threshold_changed\n",
      "    fil.threshold_between(self.lower_threshold, new_value)\n",
      "  File \"/opt/homebrew/lib/python3.9/site-packages/tvtk/tvtk_classes.zip/tvtk_classes/threshold.py\", line 257, in threshold_between\n",
      "    ret = self._wrap_call(self._vtk_obj.ThresholdBetween, *args)\n",
      "AttributeError: 'vtkmodules.vtkFiltersCore.vtkThreshold' object has no attribute 'ThresholdBetween'\n",
      "Exception occurred in traits notification handler for object: <mayavi.filters.threshold.Threshold object at 0x2b42b6130>, trait: lower_threshold, old value: -1.0, new value: 0.0\n",
      "Traceback (most recent call last):\n",
      "  File \"/opt/homebrew/lib/python3.9/site-packages/traits/trait_notifiers.py\", line 342, in __call__\n",
      "    self.handler(*args)\n",
      "  File \"/opt/homebrew/lib/python3.9/site-packages/mayavi/filters/threshold.py\", line 168, in _lower_threshold_changed\n",
      "    fil.threshold_between(new_value, self.upper_threshold)\n",
      "  File \"/opt/homebrew/lib/python3.9/site-packages/tvtk/tvtk_classes.zip/tvtk_classes/threshold.py\", line 257, in threshold_between\n",
      "    ret = self._wrap_call(self._vtk_obj.ThresholdBetween, *args)\n",
      "AttributeError: 'vtkmodules.vtkFiltersCore.vtkThreshold' object has no attribute 'ThresholdBetween'\n"
     ]
    },
    {
     "data": {
      "text/plain": [
       "((0.0,\n",
       "  90.0,\n",
       "  347.5779724121094,\n",
       "  array([-33.50578773, -17.93186188,  15.4875679 ])),\n",
       " -90.0)"
      ]
     },
     "execution_count": 152,
     "metadata": {},
     "output_type": "execute_result"
    }
   ],
   "source": [
    "# Define path to FreeSurfer subjects directory\n",
    "os.environ[\"SUBJECTS_DIR\"] = \"/Applications/freesurfer/subjects\"\n",
    "\n",
    "# Set parameters\n",
    "subject_id = \"fsaverage\"\n",
    "hemi = \"lh\"  # Or \"rh\"\n",
    "surf = \"pial\"  # Other options: \"inflated\" for smooth surface\n",
    "view = \"medial\"  # Other options: \"lateral\", \"temporal\", etc.\n",
    "\n",
    "# Initiate Brain object\n",
    "brain = Brain(subject_id, hemi, surf, background=\"white\", subjects_dir=os.environ[\"SUBJECTS_DIR\"])\n",
    "\n",
    "# Load annotation file\n",
    "aparc_file = os.path.join(os.environ[\"SUBJECTS_DIR\"], subject_id, \"label\", f\"{hemi}.aparc.annot\")\n",
    "labels, ctab, names = nib.freesurfer.read_annot(aparc_file)\n",
    "\n",
    "# Generate random data for demonstration (replace with your actual data)\n",
    "roi_data = np.random.rand(len(names))\n",
    "\n",
    "# Map ROI data to vertices\n",
    "vtx_data = roi_data[labels]\n",
    "\n",
    "# Handle vertices not defined in the annotation\n",
    "vtx_data[labels == -1] = -1\n",
    "\n",
    "# Display values on the brain\n",
    "brain.add_data(vtx_data, \n",
    "               min=0, \n",
    "               max=1, \n",
    "               thresh=0,\n",
    "               colormap=\"viridis\",  # You can change the colormap\n",
    "               alpha=0.8)  # Transparency level (0-1)\n",
    "\n",
    "# Show the specified view\n",
    "brain.show_view(view)"
   ]
  }
 ],
 "metadata": {
  "kernelspec": {
   "display_name": "Python 3",
   "language": "python",
   "name": "python3"
  },
  "language_info": {
   "codemirror_mode": {
    "name": "ipython",
    "version": 3
   },
   "file_extension": ".py",
   "mimetype": "text/x-python",
   "name": "python",
   "nbconvert_exporter": "python",
   "pygments_lexer": "ipython3",
   "version": "3.9.18"
  },
  "orig_nbformat": 4
 },
 "nbformat": 4,
 "nbformat_minor": 2
}
